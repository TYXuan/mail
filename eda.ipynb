{
 "cells": [
  {
   "cell_type": "markdown",
   "id": "16ee5d32",
   "metadata": {},
   "source": [
    "# Exploratory Data Analysis\n",
    "   ---\n",
    "*By Tan Yu Xuan                    08 Feb 2023*"
   ]
  },
  {
   "cell_type": "markdown",
   "id": "084438c5",
   "metadata": {},
   "source": [
    "# Imported Libraries"
   ]
  },
  {
   "cell_type": "code",
   "execution_count": 28,
   "id": "073c9995",
   "metadata": {},
   "outputs": [],
   "source": [
    "import pandas as pd\n",
    "import numpy as np\n",
    "import matplotlib.pyplot as plt\n",
    "import seaborn as sns\n",
    "\n",
    "from nltk.tokenize import word_tokenize\n",
    "from nltk.corpus import stopwords\n",
    "from nltk.stem import PorterStemmer\n",
    "from nltk.util import ngrams\n",
    "\n",
    "# change to nicer default style\n",
    "plt.style.use('seaborn')\n",
    "%matplotlib inline"
   ]
  },
  {
   "cell_type": "markdown",
   "id": "e70d4e2d",
   "metadata": {},
   "source": [
    "The dataset was downloaded from https://www.kaggle.com/datasets/venky73/spam-mails-dataset, containing spam and ham messages."
   ]
  },
  {
   "cell_type": "markdown",
   "id": "d26a69a5",
   "metadata": {},
   "source": [
    "**List of attributes**\n",
    "\n",
    "| Attribute | Description |\n",
    "|-----------|-------------|\n",
    "|label|Labels of Emails [spam or ham]|\n",
    "|text|Emails data|\n",
    "|label_num|output class [1: spam, 0: ham]|"
   ]
  },
  {
   "cell_type": "markdown",
   "id": "ef5daf0a",
   "metadata": {},
   "source": [
    "# Importing Dataset"
   ]
  },
  {
   "cell_type": "code",
   "execution_count": 29,
   "id": "694a280a",
   "metadata": {},
   "outputs": [],
   "source": [
    "# Read csv into pandas DataFrame\n",
    "df = pd.read_csv(r'data\\spam_ham_dataset.csv')\n",
    "# Removing Unnecessary column\n",
    "df.drop('Unnamed: 0', axis=1, inplace = True)"
   ]
  },
  {
   "cell_type": "markdown",
   "id": "f7df21cb",
   "metadata": {},
   "source": [
    "# Spam / Ham Dataset"
   ]
  },
  {
   "cell_type": "code",
   "execution_count": 30,
   "id": "a20c11ec",
   "metadata": {},
   "outputs": [
    {
     "data": {
      "text/html": [
       "<div>\n",
       "<style scoped>\n",
       "    .dataframe tbody tr th:only-of-type {\n",
       "        vertical-align: middle;\n",
       "    }\n",
       "\n",
       "    .dataframe tbody tr th {\n",
       "        vertical-align: top;\n",
       "    }\n",
       "\n",
       "    .dataframe thead th {\n",
       "        text-align: right;\n",
       "    }\n",
       "</style>\n",
       "<table border=\"1\" class=\"dataframe\">\n",
       "  <thead>\n",
       "    <tr style=\"text-align: right;\">\n",
       "      <th></th>\n",
       "      <th>label</th>\n",
       "      <th>text</th>\n",
       "      <th>label_num</th>\n",
       "    </tr>\n",
       "  </thead>\n",
       "  <tbody>\n",
       "    <tr>\n",
       "      <th>0</th>\n",
       "      <td>ham</td>\n",
       "      <td>Subject: enron methanol ; meter # : 988291\\r\\n...</td>\n",
       "      <td>0</td>\n",
       "    </tr>\n",
       "    <tr>\n",
       "      <th>1</th>\n",
       "      <td>ham</td>\n",
       "      <td>Subject: hpl nom for january 9 , 2001\\r\\n( see...</td>\n",
       "      <td>0</td>\n",
       "    </tr>\n",
       "    <tr>\n",
       "      <th>2</th>\n",
       "      <td>ham</td>\n",
       "      <td>Subject: neon retreat\\r\\nho ho ho , we ' re ar...</td>\n",
       "      <td>0</td>\n",
       "    </tr>\n",
       "    <tr>\n",
       "      <th>3</th>\n",
       "      <td>spam</td>\n",
       "      <td>Subject: photoshop , windows , office . cheap ...</td>\n",
       "      <td>1</td>\n",
       "    </tr>\n",
       "    <tr>\n",
       "      <th>4</th>\n",
       "      <td>ham</td>\n",
       "      <td>Subject: re : indian springs\\r\\nthis deal is t...</td>\n",
       "      <td>0</td>\n",
       "    </tr>\n",
       "  </tbody>\n",
       "</table>\n",
       "</div>"
      ],
      "text/plain": [
       "  label                                               text  label_num\n",
       "0   ham  Subject: enron methanol ; meter # : 988291\\r\\n...          0\n",
       "1   ham  Subject: hpl nom for january 9 , 2001\\r\\n( see...          0\n",
       "2   ham  Subject: neon retreat\\r\\nho ho ho , we ' re ar...          0\n",
       "3  spam  Subject: photoshop , windows , office . cheap ...          1\n",
       "4   ham  Subject: re : indian springs\\r\\nthis deal is t...          0"
      ]
     },
     "execution_count": 30,
     "metadata": {},
     "output_type": "execute_result"
    }
   ],
   "source": [
    "df.head()"
   ]
  },
  {
   "cell_type": "code",
   "execution_count": 31,
   "id": "c1cc5d39",
   "metadata": {},
   "outputs": [
    {
     "data": {
      "text/html": [
       "<div>\n",
       "<style scoped>\n",
       "    .dataframe tbody tr th:only-of-type {\n",
       "        vertical-align: middle;\n",
       "    }\n",
       "\n",
       "    .dataframe tbody tr th {\n",
       "        vertical-align: top;\n",
       "    }\n",
       "\n",
       "    .dataframe thead th {\n",
       "        text-align: right;\n",
       "    }\n",
       "</style>\n",
       "<table border=\"1\" class=\"dataframe\">\n",
       "  <thead>\n",
       "    <tr style=\"text-align: right;\">\n",
       "      <th></th>\n",
       "      <th>label</th>\n",
       "      <th>text</th>\n",
       "      <th>label_num</th>\n",
       "    </tr>\n",
       "  </thead>\n",
       "  <tbody>\n",
       "    <tr>\n",
       "      <th>5166</th>\n",
       "      <td>ham</td>\n",
       "      <td>Subject: put the 10 on the ft\\r\\nthe transport...</td>\n",
       "      <td>0</td>\n",
       "    </tr>\n",
       "    <tr>\n",
       "      <th>5167</th>\n",
       "      <td>ham</td>\n",
       "      <td>Subject: 3 / 4 / 2000 and following noms\\r\\nhp...</td>\n",
       "      <td>0</td>\n",
       "    </tr>\n",
       "    <tr>\n",
       "      <th>5168</th>\n",
       "      <td>ham</td>\n",
       "      <td>Subject: calpine daily gas nomination\\r\\n&gt;\\r\\n...</td>\n",
       "      <td>0</td>\n",
       "    </tr>\n",
       "    <tr>\n",
       "      <th>5169</th>\n",
       "      <td>ham</td>\n",
       "      <td>Subject: industrial worksheets for august 2000...</td>\n",
       "      <td>0</td>\n",
       "    </tr>\n",
       "    <tr>\n",
       "      <th>5170</th>\n",
       "      <td>spam</td>\n",
       "      <td>Subject: important online banking alert\\r\\ndea...</td>\n",
       "      <td>1</td>\n",
       "    </tr>\n",
       "  </tbody>\n",
       "</table>\n",
       "</div>"
      ],
      "text/plain": [
       "     label                                               text  label_num\n",
       "5166   ham  Subject: put the 10 on the ft\\r\\nthe transport...          0\n",
       "5167   ham  Subject: 3 / 4 / 2000 and following noms\\r\\nhp...          0\n",
       "5168   ham  Subject: calpine daily gas nomination\\r\\n>\\r\\n...          0\n",
       "5169   ham  Subject: industrial worksheets for august 2000...          0\n",
       "5170  spam  Subject: important online banking alert\\r\\ndea...          1"
      ]
     },
     "execution_count": 31,
     "metadata": {},
     "output_type": "execute_result"
    }
   ],
   "source": [
    "df.tail()"
   ]
  },
  {
   "cell_type": "code",
   "execution_count": 32,
   "id": "3be7d8cf",
   "metadata": {},
   "outputs": [
    {
     "name": "stdout",
     "output_type": "stream",
     "text": [
      "<class 'pandas.core.frame.DataFrame'>\n",
      "RangeIndex: 5171 entries, 0 to 5170\n",
      "Data columns (total 3 columns):\n",
      " #   Column     Non-Null Count  Dtype \n",
      "---  ------     --------------  ----- \n",
      " 0   label      5171 non-null   object\n",
      " 1   text       5171 non-null   object\n",
      " 2   label_num  5171 non-null   int64 \n",
      "dtypes: int64(1), object(2)\n",
      "memory usage: 121.3+ KB\n"
     ]
    }
   ],
   "source": [
    "df.info()"
   ]
  },
  {
   "cell_type": "code",
   "execution_count": 33,
   "id": "be6e7977",
   "metadata": {},
   "outputs": [
    {
     "data": {
      "text/plain": [
       "label           2\n",
       "text         4993\n",
       "label_num       2\n",
       "dtype: int64"
      ]
     },
     "execution_count": 33,
     "metadata": {},
     "output_type": "execute_result"
    }
   ],
   "source": [
    "df.nunique()"
   ]
  },
  {
   "cell_type": "code",
   "execution_count": 34,
   "id": "e29efea4",
   "metadata": {},
   "outputs": [
    {
     "data": {
      "text/plain": [
       "label        0\n",
       "text         0\n",
       "label_num    0\n",
       "dtype: int64"
      ]
     },
     "execution_count": 34,
     "metadata": {},
     "output_type": "execute_result"
    }
   ],
   "source": [
    "df.isna().sum()"
   ]
  },
  {
   "cell_type": "markdown",
   "id": "22dad991",
   "metadata": {},
   "source": [
    "No missing values."
   ]
  },
  {
   "cell_type": "markdown",
   "id": "f203fd8a",
   "metadata": {},
   "source": [
    "# Feature Engineering"
   ]
  },
  {
   "cell_type": "markdown",
   "id": "ac420e3a",
   "metadata": {},
   "source": [
    "## Length\n",
    "Create new column ‘length’ to find out length of emails."
   ]
  },
  {
   "cell_type": "code",
   "execution_count": 35,
   "id": "1e8caa41",
   "metadata": {},
   "outputs": [
    {
     "data": {
      "text/html": [
       "<div>\n",
       "<style scoped>\n",
       "    .dataframe tbody tr th:only-of-type {\n",
       "        vertical-align: middle;\n",
       "    }\n",
       "\n",
       "    .dataframe tbody tr th {\n",
       "        vertical-align: top;\n",
       "    }\n",
       "\n",
       "    .dataframe thead th {\n",
       "        text-align: right;\n",
       "    }\n",
       "</style>\n",
       "<table border=\"1\" class=\"dataframe\">\n",
       "  <thead>\n",
       "    <tr style=\"text-align: right;\">\n",
       "      <th></th>\n",
       "      <th>label</th>\n",
       "      <th>text</th>\n",
       "      <th>label_num</th>\n",
       "      <th>length</th>\n",
       "    </tr>\n",
       "  </thead>\n",
       "  <tbody>\n",
       "    <tr>\n",
       "      <th>949</th>\n",
       "      <td>ham</td>\n",
       "      <td>Subject: fw : \" red , white and blue out \"\\r\\n...</td>\n",
       "      <td>0</td>\n",
       "      <td>32258</td>\n",
       "    </tr>\n",
       "    <tr>\n",
       "      <th>1988</th>\n",
       "      <td>spam</td>\n",
       "      <td>Subject: online pharxmacy 80 % off all meds\\r\\...</td>\n",
       "      <td>1</td>\n",
       "      <td>22073</td>\n",
       "    </tr>\n",
       "    <tr>\n",
       "      <th>3560</th>\n",
       "      <td>ham</td>\n",
       "      <td>Subject: fw : thought this was important\\r\\nba...</td>\n",
       "      <td>0</td>\n",
       "      <td>16338</td>\n",
       "    </tr>\n",
       "    <tr>\n",
       "      <th>4287</th>\n",
       "      <td>ham</td>\n",
       "      <td>Subject: the expatriate zone - issue # 1 2 / 1...</td>\n",
       "      <td>0</td>\n",
       "      <td>16312</td>\n",
       "    </tr>\n",
       "    <tr>\n",
       "      <th>4792</th>\n",
       "      <td>spam</td>\n",
       "      <td>Subject: we ' ve got your info by internet , h...</td>\n",
       "      <td>1</td>\n",
       "      <td>14716</td>\n",
       "    </tr>\n",
       "    <tr>\n",
       "      <th>4903</th>\n",
       "      <td>ham</td>\n",
       "      <td>Subject: re : coastal oil &amp; gas corporation\\r\\...</td>\n",
       "      <td>0</td>\n",
       "      <td>13448</td>\n",
       "    </tr>\n",
       "    <tr>\n",
       "      <th>2935</th>\n",
       "      <td>ham</td>\n",
       "      <td>Subject: re : coastal oil &amp; gas corporation\\r\\...</td>\n",
       "      <td>0</td>\n",
       "      <td>13440</td>\n",
       "    </tr>\n",
       "    <tr>\n",
       "      <th>828</th>\n",
       "      <td>ham</td>\n",
       "      <td>Subject: re : coastal oil &amp; gas corporation\\r\\...</td>\n",
       "      <td>0</td>\n",
       "      <td>13101</td>\n",
       "    </tr>\n",
       "    <tr>\n",
       "      <th>3514</th>\n",
       "      <td>spam</td>\n",
       "      <td>Subject: free profiles you choose derm\\r\\nhtml...</td>\n",
       "      <td>1</td>\n",
       "      <td>12078</td>\n",
       "    </tr>\n",
       "    <tr>\n",
       "      <th>4249</th>\n",
       "      <td>ham</td>\n",
       "      <td>Subject: re : sitara release ( re : changes in...</td>\n",
       "      <td>0</td>\n",
       "      <td>11776</td>\n",
       "    </tr>\n",
       "  </tbody>\n",
       "</table>\n",
       "</div>"
      ],
      "text/plain": [
       "     label                                               text  label_num  \\\n",
       "949    ham  Subject: fw : \" red , white and blue out \"\\r\\n...          0   \n",
       "1988  spam  Subject: online pharxmacy 80 % off all meds\\r\\...          1   \n",
       "3560   ham  Subject: fw : thought this was important\\r\\nba...          0   \n",
       "4287   ham  Subject: the expatriate zone - issue # 1 2 / 1...          0   \n",
       "4792  spam  Subject: we ' ve got your info by internet , h...          1   \n",
       "4903   ham  Subject: re : coastal oil & gas corporation\\r\\...          0   \n",
       "2935   ham  Subject: re : coastal oil & gas corporation\\r\\...          0   \n",
       "828    ham  Subject: re : coastal oil & gas corporation\\r\\...          0   \n",
       "3514  spam  Subject: free profiles you choose derm\\r\\nhtml...          1   \n",
       "4249   ham  Subject: re : sitara release ( re : changes in...          0   \n",
       "\n",
       "      length  \n",
       "949    32258  \n",
       "1988   22073  \n",
       "3560   16338  \n",
       "4287   16312  \n",
       "4792   14716  \n",
       "4903   13448  \n",
       "2935   13440  \n",
       "828    13101  \n",
       "3514   12078  \n",
       "4249   11776  "
      ]
     },
     "execution_count": 35,
     "metadata": {},
     "output_type": "execute_result"
    }
   ],
   "source": [
    "df[\"length\"] = df[\"text\"].apply(len)\n",
    "df.sort_values(by='length', ascending=False).head(10)"
   ]
  },
  {
   "cell_type": "markdown",
   "id": "6bb720f3",
   "metadata": {},
   "source": [
    "## Text\n",
    "1. Remove all punctuations from string.\n",
    "2. Convert all strings to their lower case form.\n",
    "3. Perform Tokenization\n",
    "4. Remove stopwords\n",
    "5. Stemming words"
   ]
  },
  {
   "cell_type": "code",
   "execution_count": 36,
   "id": "83af4d00",
   "metadata": {},
   "outputs": [],
   "source": [
    "# Remove all punctuations\n",
    "df['new_text'] = df['text'].str.replace('\\W', ' ', regex=True)"
   ]
  },
  {
   "cell_type": "code",
   "execution_count": 37,
   "id": "01d73a66",
   "metadata": {},
   "outputs": [],
   "source": [
    "# Convert all strings to lower case form\n",
    "df['new_text'] = df['new_text'].str.lower()"
   ]
  },
  {
   "cell_type": "code",
   "execution_count": 38,
   "id": "eb630d33",
   "metadata": {},
   "outputs": [],
   "source": [
    "# Tokenize words\n",
    "#df['new_text'] = df['new_text'].apply(word_tokenize)"
   ]
  },
  {
   "cell_type": "code",
   "execution_count": 39,
   "id": "f153b292",
   "metadata": {},
   "outputs": [],
   "source": [
    "# Remove stopwords\n",
    "#stop = stopwords.words('english')\n",
    "\n",
    "#df['new_text'] = df['new_text'].apply(lambda x: [item for item in x if item not in stop])"
   ]
  },
  {
   "cell_type": "code",
   "execution_count": 40,
   "id": "115436ae",
   "metadata": {},
   "outputs": [],
   "source": [
    "def clean_text(text, stemmer = PorterStemmer(), \n",
    "                  stop_words = set(stopwords.words('english'))):\n",
    "      \n",
    "    words = word_tokenize(text)\n",
    "    \n",
    "    filtered_words = []\n",
    "    \n",
    "    for word in words:\n",
    "        \n",
    "        if word not in stop_words and word.isalpha():\n",
    "            filtered_words.append(stemmer.stem(word))\n",
    "    \n",
    "    return filtered_words"
   ]
  },
  {
   "cell_type": "markdown",
   "id": "98afd8d7",
   "metadata": {},
   "source": [
    "#### Spam mails"
   ]
  },
  {
   "cell_type": "code",
   "execution_count": 41,
   "id": "cb393c96",
   "metadata": {},
   "outputs": [],
   "source": [
    "df_spam = df[df['label'] == 'spam']"
   ]
  },
  {
   "cell_type": "code",
   "execution_count": 42,
   "id": "15e8dde1",
   "metadata": {},
   "outputs": [
    {
     "data": {
      "text/html": [
       "<div>\n",
       "<style scoped>\n",
       "    .dataframe tbody tr th:only-of-type {\n",
       "        vertical-align: middle;\n",
       "    }\n",
       "\n",
       "    .dataframe tbody tr th {\n",
       "        vertical-align: top;\n",
       "    }\n",
       "\n",
       "    .dataframe thead th {\n",
       "        text-align: right;\n",
       "    }\n",
       "</style>\n",
       "<table border=\"1\" class=\"dataframe\">\n",
       "  <thead>\n",
       "    <tr style=\"text-align: right;\">\n",
       "      <th></th>\n",
       "      <th>label</th>\n",
       "      <th>text</th>\n",
       "      <th>label_num</th>\n",
       "      <th>length</th>\n",
       "      <th>new_text</th>\n",
       "    </tr>\n",
       "  </thead>\n",
       "  <tbody>\n",
       "    <tr>\n",
       "      <th>3</th>\n",
       "      <td>spam</td>\n",
       "      <td>Subject: photoshop , windows , office . cheap ...</td>\n",
       "      <td>1</td>\n",
       "      <td>414</td>\n",
       "      <td>subject  photoshop   windows   office   cheap ...</td>\n",
       "    </tr>\n",
       "    <tr>\n",
       "      <th>7</th>\n",
       "      <td>spam</td>\n",
       "      <td>Subject: looking for medication ? we ` re the ...</td>\n",
       "      <td>1</td>\n",
       "      <td>784</td>\n",
       "      <td>subject  looking for medication   we   re the ...</td>\n",
       "    </tr>\n",
       "    <tr>\n",
       "      <th>10</th>\n",
       "      <td>spam</td>\n",
       "      <td>Subject: vocable % rnd - word asceticism\\r\\nvc...</td>\n",
       "      <td>1</td>\n",
       "      <td>6922</td>\n",
       "      <td>subject  vocable   rnd   word asceticism  vcsc...</td>\n",
       "    </tr>\n",
       "    <tr>\n",
       "      <th>11</th>\n",
       "      <td>spam</td>\n",
       "      <td>Subject: report 01405 !\\r\\nwffur attion brom e...</td>\n",
       "      <td>1</td>\n",
       "      <td>337</td>\n",
       "      <td>subject  report 01405    wffur attion brom est...</td>\n",
       "    </tr>\n",
       "    <tr>\n",
       "      <th>13</th>\n",
       "      <td>spam</td>\n",
       "      <td>Subject: vic . odin n ^ ow\\r\\nberne hotbox car...</td>\n",
       "      <td>1</td>\n",
       "      <td>395</td>\n",
       "      <td>subject  vic   odin n   ow  berne hotbox carna...</td>\n",
       "    </tr>\n",
       "  </tbody>\n",
       "</table>\n",
       "</div>"
      ],
      "text/plain": [
       "   label                                               text  label_num  \\\n",
       "3   spam  Subject: photoshop , windows , office . cheap ...          1   \n",
       "7   spam  Subject: looking for medication ? we ` re the ...          1   \n",
       "10  spam  Subject: vocable % rnd - word asceticism\\r\\nvc...          1   \n",
       "11  spam  Subject: report 01405 !\\r\\nwffur attion brom e...          1   \n",
       "13  spam  Subject: vic . odin n ^ ow\\r\\nberne hotbox car...          1   \n",
       "\n",
       "    length                                           new_text  \n",
       "3      414  subject  photoshop   windows   office   cheap ...  \n",
       "7      784  subject  looking for medication   we   re the ...  \n",
       "10    6922  subject  vocable   rnd   word asceticism  vcsc...  \n",
       "11     337  subject  report 01405    wffur attion brom est...  \n",
       "13     395  subject  vic   odin n   ow  berne hotbox carna...  "
      ]
     },
     "execution_count": 42,
     "metadata": {},
     "output_type": "execute_result"
    }
   ],
   "source": [
    "df_spam.head()"
   ]
  },
  {
   "cell_type": "code",
   "execution_count": 43,
   "id": "81dd9d6c",
   "metadata": {},
   "outputs": [],
   "source": [
    "words_spam = clean_text(''.join(str(df_spam['new_text'].tolist())))"
   ]
  },
  {
   "cell_type": "code",
   "execution_count": 45,
   "id": "2f1550df",
   "metadata": {},
   "outputs": [
    {
     "data": {
      "text/plain": [
       "(http, www)          410\n",
       "(nbsp, nbsp)         296\n",
       "(computron, com)     195\n",
       "(href, http)         175\n",
       "(look, statement)    172\n",
       "(pill, pill)         169\n",
       "(width, height)      164\n",
       "(src, http)          157\n",
       "(www, computron)     152\n",
       "(forward, look)      142\n",
       "(http, nd)           136\n",
       "(e, mail)            135\n",
       "dtype: int64"
      ]
     },
     "execution_count": 45,
     "metadata": {},
     "output_type": "execute_result"
    }
   ],
   "source": [
    "(pd.Series(ngrams(words_spam, 2)).value_counts())[:12]"
   ]
  },
  {
   "cell_type": "code",
   "execution_count": 46,
   "id": "79e1652f",
   "metadata": {},
   "outputs": [
    {
     "data": {
      "text/plain": [
       "(nbsp, nbsp, nbsp)            245\n",
       "(www, computron, com)         152\n",
       "(forward, look, statement)    139\n",
       "(pill, pill, pill)             91\n",
       "(font, size, pt)               87\n",
       "(src, http, nd)                84\n",
       "(ali, duti, free)              81\n",
       "(href, http, www)              76\n",
       "(www, moopid, com)             73\n",
       "(border, src, http)            73\n",
       "(http, www, moopid)            73\n",
       "(moopid, com, hotlist)         73\n",
       "dtype: int64"
      ]
     },
     "execution_count": 46,
     "metadata": {},
     "output_type": "execute_result"
    }
   ],
   "source": [
    "(pd.Series(ngrams(words_spam, 3)).value_counts())[:12]"
   ]
  },
  {
   "cell_type": "markdown",
   "id": "96aa4a85",
   "metadata": {},
   "source": [
    "#### Ham mails"
   ]
  },
  {
   "cell_type": "code",
   "execution_count": 48,
   "id": "e57f6d15",
   "metadata": {},
   "outputs": [],
   "source": [
    "df_ham = df[df['label'] == 'ham']"
   ]
  },
  {
   "cell_type": "code",
   "execution_count": 49,
   "id": "c2c3384f",
   "metadata": {},
   "outputs": [
    {
     "data": {
      "text/html": [
       "<div>\n",
       "<style scoped>\n",
       "    .dataframe tbody tr th:only-of-type {\n",
       "        vertical-align: middle;\n",
       "    }\n",
       "\n",
       "    .dataframe tbody tr th {\n",
       "        vertical-align: top;\n",
       "    }\n",
       "\n",
       "    .dataframe thead th {\n",
       "        text-align: right;\n",
       "    }\n",
       "</style>\n",
       "<table border=\"1\" class=\"dataframe\">\n",
       "  <thead>\n",
       "    <tr style=\"text-align: right;\">\n",
       "      <th></th>\n",
       "      <th>label</th>\n",
       "      <th>text</th>\n",
       "      <th>label_num</th>\n",
       "      <th>length</th>\n",
       "      <th>new_text</th>\n",
       "    </tr>\n",
       "  </thead>\n",
       "  <tbody>\n",
       "    <tr>\n",
       "      <th>0</th>\n",
       "      <td>ham</td>\n",
       "      <td>Subject: enron methanol ; meter # : 988291\\r\\n...</td>\n",
       "      <td>0</td>\n",
       "      <td>327</td>\n",
       "      <td>subject  enron methanol   meter     988291  th...</td>\n",
       "    </tr>\n",
       "    <tr>\n",
       "      <th>1</th>\n",
       "      <td>ham</td>\n",
       "      <td>Subject: hpl nom for january 9 , 2001\\r\\n( see...</td>\n",
       "      <td>0</td>\n",
       "      <td>97</td>\n",
       "      <td>subject  hpl nom for january 9   2001    see a...</td>\n",
       "    </tr>\n",
       "    <tr>\n",
       "      <th>2</th>\n",
       "      <td>ham</td>\n",
       "      <td>Subject: neon retreat\\r\\nho ho ho , we ' re ar...</td>\n",
       "      <td>0</td>\n",
       "      <td>2524</td>\n",
       "      <td>subject  neon retreat  ho ho ho   we   re arou...</td>\n",
       "    </tr>\n",
       "    <tr>\n",
       "      <th>4</th>\n",
       "      <td>ham</td>\n",
       "      <td>Subject: re : indian springs\\r\\nthis deal is t...</td>\n",
       "      <td>0</td>\n",
       "      <td>336</td>\n",
       "      <td>subject  re   indian springs  this deal is to ...</td>\n",
       "    </tr>\n",
       "    <tr>\n",
       "      <th>5</th>\n",
       "      <td>ham</td>\n",
       "      <td>Subject: ehronline web address change\\r\\nthis ...</td>\n",
       "      <td>0</td>\n",
       "      <td>480</td>\n",
       "      <td>subject  ehronline web address change  this me...</td>\n",
       "    </tr>\n",
       "  </tbody>\n",
       "</table>\n",
       "</div>"
      ],
      "text/plain": [
       "  label                                               text  label_num  length  \\\n",
       "0   ham  Subject: enron methanol ; meter # : 988291\\r\\n...          0     327   \n",
       "1   ham  Subject: hpl nom for january 9 , 2001\\r\\n( see...          0      97   \n",
       "2   ham  Subject: neon retreat\\r\\nho ho ho , we ' re ar...          0    2524   \n",
       "4   ham  Subject: re : indian springs\\r\\nthis deal is t...          0     336   \n",
       "5   ham  Subject: ehronline web address change\\r\\nthis ...          0     480   \n",
       "\n",
       "                                            new_text  \n",
       "0  subject  enron methanol   meter     988291  th...  \n",
       "1  subject  hpl nom for january 9   2001    see a...  \n",
       "2  subject  neon retreat  ho ho ho   we   re arou...  \n",
       "4  subject  re   indian springs  this deal is to ...  \n",
       "5  subject  ehronline web address change  this me...  "
      ]
     },
     "execution_count": 49,
     "metadata": {},
     "output_type": "execute_result"
    }
   ],
   "source": [
    "df_ham.head()"
   ]
  },
  {
   "cell_type": "code",
   "execution_count": 50,
   "id": "a67b78f3",
   "metadata": {},
   "outputs": [],
   "source": [
    "words_ham = clean_text(''.join(str(df_ham['new_text'].tolist())))"
   ]
  },
  {
   "cell_type": "code",
   "execution_count": 51,
   "id": "1396b5c9",
   "metadata": {},
   "outputs": [
    {
     "data": {
      "text/plain": [
       "(hou, ect)        7226\n",
       "(ect, ect)        6339\n",
       "(enron, enron)    1447\n",
       "(ect, cc)         1391\n",
       "(corp, enron)     1214\n",
       "(cc, subject)     1099\n",
       "(daren, j)         959\n",
       "(let, know)        941\n",
       "(enron, com)       831\n",
       "(j, farmer)        816\n",
       "(ect, subject)     730\n",
       "(see, attach)      574\n",
       "dtype: int64"
      ]
     },
     "execution_count": 51,
     "metadata": {},
     "output_type": "execute_result"
    }
   ],
   "source": [
    "(pd.Series(ngrams(words_ham, 2)).value_counts())[:12]"
   ]
  },
  {
   "cell_type": "code",
   "execution_count": 52,
   "id": "538043ca",
   "metadata": {},
   "outputs": [
    {
     "data": {
      "text/plain": [
       "(hou, ect, ect)         6271\n",
       "(ect, ect, cc)          1383\n",
       "(corp, enron, enron)     913\n",
       "(daren, j, farmer)       816\n",
       "(ect, ect, subject)      715\n",
       "(ect, cc, subject)       599\n",
       "(farmer, hou, ect)       563\n",
       "(j, farmer, hou)         563\n",
       "(see, attach, file)      490\n",
       "(hou, ect, pm)           465\n",
       "(pleas, let, know)       404\n",
       "(enron, enron, cc)       304\n",
       "dtype: int64"
      ]
     },
     "execution_count": 52,
     "metadata": {},
     "output_type": "execute_result"
    }
   ],
   "source": [
    "(pd.Series(ngrams(words_ham, 3)).value_counts())[:12]"
   ]
  },
  {
   "cell_type": "markdown",
   "id": "1cfcd5c9",
   "metadata": {},
   "source": [
    "# Correlation"
   ]
  },
  {
   "cell_type": "code",
   "execution_count": 78,
   "id": "8aafba34",
   "metadata": {},
   "outputs": [
    {
     "data": {
      "text/html": [
       "<div>\n",
       "<style scoped>\n",
       "    .dataframe tbody tr th:only-of-type {\n",
       "        vertical-align: middle;\n",
       "    }\n",
       "\n",
       "    .dataframe tbody tr th {\n",
       "        vertical-align: top;\n",
       "    }\n",
       "\n",
       "    .dataframe thead th {\n",
       "        text-align: right;\n",
       "    }\n",
       "</style>\n",
       "<table border=\"1\" class=\"dataframe\">\n",
       "  <thead>\n",
       "    <tr style=\"text-align: right;\">\n",
       "      <th></th>\n",
       "      <th>label_num</th>\n",
       "      <th>length</th>\n",
       "    </tr>\n",
       "  </thead>\n",
       "  <tbody>\n",
       "    <tr>\n",
       "      <th>label_num</th>\n",
       "      <td>1.000000</td>\n",
       "      <td>0.073101</td>\n",
       "    </tr>\n",
       "    <tr>\n",
       "      <th>length</th>\n",
       "      <td>0.073101</td>\n",
       "      <td>1.000000</td>\n",
       "    </tr>\n",
       "  </tbody>\n",
       "</table>\n",
       "</div>"
      ],
      "text/plain": [
       "           label_num    length\n",
       "label_num   1.000000  0.073101\n",
       "length      0.073101  1.000000"
      ]
     },
     "execution_count": 78,
     "metadata": {},
     "output_type": "execute_result"
    }
   ],
   "source": [
    "df.corr()"
   ]
  },
  {
   "cell_type": "markdown",
   "id": "d0ebe1a5",
   "metadata": {},
   "source": [
    "Low correlation (7.31%) shown between label_num & length means that the variables are hardly related."
   ]
  },
  {
   "cell_type": "markdown",
   "id": "699a307b",
   "metadata": {},
   "source": [
    "# EDA"
   ]
  },
  {
   "cell_type": "markdown",
   "id": "44fdc0f2",
   "metadata": {},
   "source": [
    "## Label"
   ]
  },
  {
   "cell_type": "code",
   "execution_count": 64,
   "id": "cd298c15",
   "metadata": {},
   "outputs": [
    {
     "data": {
      "text/plain": [
       "[Text(0.5, 1.0, 'Countplot of Label')]"
      ]
     },
     "execution_count": 64,
     "metadata": {},
     "output_type": "execute_result"
    },
    {
     "data": {
      "image/png": "[encoded data removed]",
      "text/plain": [
       "<Figure size 576x576 with 1 Axes>"
      ]
     },
     "metadata": {
      "needs_background": "light"
     },
     "output_type": "display_data"
    }
   ],
   "source": [
    "plt.figure(figsize=(8,8))\n",
    "sns.countplot(data=df, x='label', hue='label_num').set(title='Countplot of Label')"
   ]
  },
  {
   "cell_type": "markdown",
   "id": "dad15e5e",
   "metadata": {},
   "source": [
    "From the plot, there are lesser spam mails."
   ]
  },
  {
   "cell_type": "markdown",
   "id": "41221624",
   "metadata": {},
   "source": [
    "## Text"
   ]
  },
  {
   "cell_type": "markdown",
   "id": "1acf5a5a",
   "metadata": {},
   "source": [
    "#### Spam mails"
   ]
  },
  {
   "cell_type": "code",
   "execution_count": 72,
   "id": "2588e608",
   "metadata": {},
   "outputs": [],
   "source": [
    "bigrams_series_spam = (pd.Series(ngrams(words_spam, 2)).value_counts())[:10]"
   ]
  },
  {
   "cell_type": "code",
   "execution_count": 71,
   "id": "c010f19a",
   "metadata": {},
   "outputs": [
    {
     "data": {
      "text/plain": [
       "Text(0.5, 0, '# of Occurences')"
      ]
     },
     "execution_count": 71,
     "metadata": {},
     "output_type": "execute_result"
    },
    {
     "data": {
      "image/png": "[encoded data removed]",
      "text/plain": [
       "<Figure size 576x576 with 1 Axes>"
      ]
     },
     "metadata": {
      "needs_background": "light"
     },
     "output_type": "display_data"
    }
   ],
   "source": [
    "plt.figure(figsize=(8,8))\n",
    "sns.barplot(y=bigrams_series_spam.index, x=bigrams_series_spam.values).set(title='Barplot of 10 Most Frequently Occuring Bigrams (Spam)')\n",
    "plt.ylabel('Bigram')\n",
    "plt.xlabel('# of Occurences')"
   ]
  },
  {
   "cell_type": "markdown",
   "id": "249f19b0",
   "metadata": {},
   "source": [
    "From the plot, spam mails usually contain web links."
   ]
  },
  {
   "cell_type": "markdown",
   "id": "6dfaa579",
   "metadata": {},
   "source": [
    "#### Ham mails"
   ]
  },
  {
   "cell_type": "code",
   "execution_count": 76,
   "id": "937d9fe8",
   "metadata": {},
   "outputs": [],
   "source": [
    "bigrams_series_ham = (pd.Series(ngrams(words_ham, 2)).value_counts())[:10]"
   ]
  },
  {
   "cell_type": "code",
   "execution_count": 77,
   "id": "87e84874",
   "metadata": {},
   "outputs": [
    {
     "data": {
      "text/plain": [
       "Text(0.5, 0, '# of Occurences')"
      ]
     },
     "execution_count": 77,
     "metadata": {},
     "output_type": "execute_result"
    },
    {
     "data": {
      "image/png": "[encoded data removed]",
      "text/plain": [
       "<Figure size 576x576 with 1 Axes>"
      ]
     },
     "metadata": {
      "needs_background": "light"
     },
     "output_type": "display_data"
    }
   ],
   "source": [
    "plt.figure(figsize=(8,8))\n",
    "sns.barplot(y=bigrams_series_ham.index, x=bigrams_series_ham.values).set(title='Barplot of 10 Most Frequently Occuring Bigrams (Ham)')\n",
    "plt.ylabel('Bigram')\n",
    "plt.xlabel('# of Occurences')"
   ]
  },
  {
   "cell_type": "markdown",
   "id": "78b1f5de",
   "metadata": {},
   "source": [
    "From the plot, normal (ham) mails usually contain corporate related information."
   ]
  },
  {
   "cell_type": "markdown",
   "id": "06f83e85",
   "metadata": {},
   "source": [
    "## Length"
   ]
  },
  {
   "cell_type": "code",
   "execution_count": 36,
   "id": "76e57f7b",
   "metadata": {},
   "outputs": [
    {
     "data": {
      "text/html": [
       "<div>\n",
       "<style scoped>\n",
       "    .dataframe tbody tr th:only-of-type {\n",
       "        vertical-align: middle;\n",
       "    }\n",
       "\n",
       "    .dataframe tbody tr th {\n",
       "        vertical-align: top;\n",
       "    }\n",
       "\n",
       "    .dataframe thead th {\n",
       "        text-align: right;\n",
       "    }\n",
       "</style>\n",
       "<table border=\"1\" class=\"dataframe\">\n",
       "  <thead>\n",
       "    <tr style=\"text-align: right;\">\n",
       "      <th></th>\n",
       "      <th>label_num</th>\n",
       "      <th>length</th>\n",
       "    </tr>\n",
       "  </thead>\n",
       "  <tbody>\n",
       "    <tr>\n",
       "      <th>count</th>\n",
       "      <td>1499.0</td>\n",
       "      <td>1499.000000</td>\n",
       "    </tr>\n",
       "    <tr>\n",
       "      <th>mean</th>\n",
       "      <td>1.0</td>\n",
       "      <td>1223.256171</td>\n",
       "    </tr>\n",
       "    <tr>\n",
       "      <th>std</th>\n",
       "      <td>0.0</td>\n",
       "      <td>1825.986210</td>\n",
       "    </tr>\n",
       "    <tr>\n",
       "      <th>min</th>\n",
       "      <td>1.0</td>\n",
       "      <td>11.000000</td>\n",
       "    </tr>\n",
       "    <tr>\n",
       "      <th>25%</th>\n",
       "      <td>1.0</td>\n",
       "      <td>283.000000</td>\n",
       "    </tr>\n",
       "    <tr>\n",
       "      <th>50%</th>\n",
       "      <td>1.0</td>\n",
       "      <td>576.000000</td>\n",
       "    </tr>\n",
       "    <tr>\n",
       "      <th>75%</th>\n",
       "      <td>1.0</td>\n",
       "      <td>1253.500000</td>\n",
       "    </tr>\n",
       "    <tr>\n",
       "      <th>max</th>\n",
       "      <td>1.0</td>\n",
       "      <td>22073.000000</td>\n",
       "    </tr>\n",
       "  </tbody>\n",
       "</table>\n",
       "</div>"
      ],
      "text/plain": [
       "       label_num        length\n",
       "count     1499.0   1499.000000\n",
       "mean         1.0   1223.256171\n",
       "std          0.0   1825.986210\n",
       "min          1.0     11.000000\n",
       "25%          1.0    283.000000\n",
       "50%          1.0    576.000000\n",
       "75%          1.0   1253.500000\n",
       "max          1.0  22073.000000"
      ]
     },
     "execution_count": 36,
     "metadata": {},
     "output_type": "execute_result"
    }
   ],
   "source": [
    "df[df['label'] == 'spam'].describe()"
   ]
  },
  {
   "cell_type": "code",
   "execution_count": 37,
   "id": "77456ee1",
   "metadata": {},
   "outputs": [
    {
     "data": {
      "text/html": [
       "<div>\n",
       "<style scoped>\n",
       "    .dataframe tbody tr th:only-of-type {\n",
       "        vertical-align: middle;\n",
       "    }\n",
       "\n",
       "    .dataframe tbody tr th {\n",
       "        vertical-align: top;\n",
       "    }\n",
       "\n",
       "    .dataframe thead th {\n",
       "        text-align: right;\n",
       "    }\n",
       "</style>\n",
       "<table border=\"1\" class=\"dataframe\">\n",
       "  <thead>\n",
       "    <tr style=\"text-align: right;\">\n",
       "      <th></th>\n",
       "      <th>label_num</th>\n",
       "      <th>length</th>\n",
       "    </tr>\n",
       "  </thead>\n",
       "  <tbody>\n",
       "    <tr>\n",
       "      <th>count</th>\n",
       "      <td>3672.0</td>\n",
       "      <td>3672.000000</td>\n",
       "    </tr>\n",
       "    <tr>\n",
       "      <th>mean</th>\n",
       "      <td>0.0</td>\n",
       "      <td>977.008170</td>\n",
       "    </tr>\n",
       "    <tr>\n",
       "      <th>std</th>\n",
       "      <td>0.0</td>\n",
       "      <td>1382.827493</td>\n",
       "    </tr>\n",
       "    <tr>\n",
       "      <th>min</th>\n",
       "      <td>0.0</td>\n",
       "      <td>18.000000</td>\n",
       "    </tr>\n",
       "    <tr>\n",
       "      <th>25%</th>\n",
       "      <td>0.0</td>\n",
       "      <td>231.750000</td>\n",
       "    </tr>\n",
       "    <tr>\n",
       "      <th>50%</th>\n",
       "      <td>0.0</td>\n",
       "      <td>530.000000</td>\n",
       "    </tr>\n",
       "    <tr>\n",
       "      <th>75%</th>\n",
       "      <td>0.0</td>\n",
       "      <td>1227.250000</td>\n",
       "    </tr>\n",
       "    <tr>\n",
       "      <th>max</th>\n",
       "      <td>0.0</td>\n",
       "      <td>32258.000000</td>\n",
       "    </tr>\n",
       "  </tbody>\n",
       "</table>\n",
       "</div>"
      ],
      "text/plain": [
       "       label_num        length\n",
       "count     3672.0   3672.000000\n",
       "mean         0.0    977.008170\n",
       "std          0.0   1382.827493\n",
       "min          0.0     18.000000\n",
       "25%          0.0    231.750000\n",
       "50%          0.0    530.000000\n",
       "75%          0.0   1227.250000\n",
       "max          0.0  32258.000000"
      ]
     },
     "execution_count": 37,
     "metadata": {},
     "output_type": "execute_result"
    }
   ],
   "source": [
    "df[df['label'] == 'ham'].describe()"
   ]
  },
  {
   "cell_type": "code",
   "execution_count": 63,
   "id": "cc518076",
   "metadata": {},
   "outputs": [
    {
     "data": {
      "text/plain": [
       "<AxesSubplot:xlabel='length', ylabel='label'>"
      ]
     },
     "execution_count": 63,
     "metadata": {},
     "output_type": "execute_result"
    },
    {
     "data": {
      "image/png": "[encoded data removed]",
      "text/plain": [
       "<Figure size 864x576 with 1 Axes>"
      ]
     },
     "metadata": {
      "needs_background": "light"
     },
     "output_type": "display_data"
    }
   ],
   "source": [
    "plt.figure(figsize=(12,8))\n",
    "sns.boxplot(data=df, y='label', x='length', hue='label', showfliers = False)"
   ]
  },
  {
   "cell_type": "markdown",
   "id": "26297129",
   "metadata": {},
   "source": [
    "From the histogram, spam emails tend to have more characters in the interquantile range (25% to 75%).\n",
    "\n",
    "|  | Ham Length | Spam Length |\n",
    "|--|-----|------|\n",
    "|mean|977.008170|`1223.256171`|\n",
    "|min|`18.000000`|11.000000|\n",
    "|25%|231.750000|`283.000000`|\n",
    "|50%|530.000000|`576.000000`|\n",
    "|75%|1227.250000|`1253.500000`|\n",
    "|max|`32258.000000`|22073.000000|"
   ]
  },
  {
   "cell_type": "markdown",
   "id": "d26e1b36",
   "metadata": {},
   "source": [
    "# Conclusion"
   ]
  },
  {
   "cell_type": "markdown",
   "id": "0d0698cb",
   "metadata": {},
   "source": [
    "From the above findings, we can clearly see that number of samples of Ham is much more than that of Spam which implies that the dataset we are using is imbalanced. To balance the data, we need to downsample Ham. \n",
    "\n",
    "Spam and Ham 'text' contains different most common bigrams which needs to be converted into vectors with the corresponding words token id's before fitting into the machine learning model. \n",
    "\n",
    "'length' should be dropped as has little correlation to 'label_num'."
   ]
  },
  {
   "cell_type": "code",
   "execution_count": null,
   "id": "4ded7ed4",
   "metadata": {},
   "outputs": [],
   "source": []
  }
 ],
 "metadata": {
  "kernelspec": {
   "display_name": "Python 3 (ipykernel)",
   "language": "python",
   "name": "python3"
  },
  "language_info": {
   "codemirror_mode": {
    "name": "ipython",
    "version": 3
   },
   "file_extension": ".py",
   "mimetype": "text/x-python",
   "name": "python",
   "nbconvert_exporter": "python",
   "pygments_lexer": "ipython3",
   "version": "3.9.12"
  }
 },
 "nbformat": 4,
 "nbformat_minor": 5
}
