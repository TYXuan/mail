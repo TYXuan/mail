{
 "cells": [
  {
   "cell_type": "markdown",
   "id": "16ee5d32",
   "metadata": {},
   "source": [
    "# Exploratory Data Analysis\n",
    "   ---\n",
    "*By Tan Yu Xuan                    08 Feb 2023*"
   ]
  },
  {
   "cell_type": "markdown",
   "id": "084438c5",
   "metadata": {},
   "source": [
    "# Imported Libraries"
   ]
  },
  {
   "cell_type": "code",
   "execution_count": 1,
   "id": "073c9995",
   "metadata": {},
   "outputs": [],
   "source": [
    "import pandas as pd\n",
    "import numpy as np\n",
    "import matplotlib.pyplot as plt\n",
    "import seaborn as sns\n",
    "\n",
    "from nltk.tokenize import word_tokenize\n",
    "from nltk.corpus import stopwords\n",
    "from nltk.stem import PorterStemmer\n",
    "from nltk.util import ngrams\n",
    "\n",
    "# change to nicer default style\n",
    "plt.style.use('seaborn')\n",
    "%matplotlib inline"
   ]
  },
  {
   "cell_type": "markdown",
   "id": "e70d4e2d",
   "metadata": {},
   "source": [
    "The dataset was downloaded from https://www.kaggle.com/datasets/venky73/spam-mails-dataset, containing spam and ham mails.\n",
    "\n",
    "Spam email (or junk mail) refers to unsolicited messages sent in bulk to many different email addresses. Whereas, ham mails are emails that are generally desired and not considered spam."
   ]
  },
  {
   "cell_type": "markdown",
   "id": "d26a69a5",
   "metadata": {},
   "source": [
    "**List of attributes**\n",
    "\n",
    "| Attribute | Description |\n",
    "|-----------|-------------|\n",
    "|label|Labels of Emails [spam or ham]|\n",
    "|text|Emails data|\n",
    "|label_num|output class [1: spam, 0: ham]|"
   ]
  },
  {
   "cell_type": "markdown",
   "id": "ef5daf0a",
   "metadata": {},
   "source": [
    "# Importing Dataset"
   ]
  },
  {
   "cell_type": "code",
   "execution_count": 2,
   "id": "694a280a",
   "metadata": {},
   "outputs": [],
   "source": [
    "# Read csv into pandas DataFrame\n",
    "df = pd.read_csv(r'data\\spam_ham_dataset.csv')\n",
    "# Removing Unnecessary column\n",
    "df.drop('Unnamed: 0', axis=1, inplace = True)"
   ]
  },
  {
   "cell_type": "markdown",
   "id": "f7df21cb",
   "metadata": {},
   "source": [
    "# Spam / Ham Dataset"
   ]
  },
  {
   "cell_type": "code",
   "execution_count": 3,
   "id": "a20c11ec",
   "metadata": {},
   "outputs": [
    {
     "data": {
      "text/html": [
       "<div>\n",
       "<style scoped>\n",
       "    .dataframe tbody tr th:only-of-type {\n",
       "        vertical-align: middle;\n",
       "    }\n",
       "\n",
       "    .dataframe tbody tr th {\n",
       "        vertical-align: top;\n",
       "    }\n",
       "\n",
       "    .dataframe thead th {\n",
       "        text-align: right;\n",
       "    }\n",
       "</style>\n",
       "<table border=\"1\" class=\"dataframe\">\n",
       "  <thead>\n",
       "    <tr style=\"text-align: right;\">\n",
       "      <th></th>\n",
       "      <th>label</th>\n",
       "      <th>text</th>\n",
       "      <th>label_num</th>\n",
       "    </tr>\n",
       "  </thead>\n",
       "  <tbody>\n",
       "    <tr>\n",
       "      <th>0</th>\n",
       "      <td>ham</td>\n",
       "      <td>Subject: enron methanol ; meter # : 988291\\r\\n...</td>\n",
       "      <td>0</td>\n",
       "    </tr>\n",
       "    <tr>\n",
       "      <th>1</th>\n",
       "      <td>ham</td>\n",
       "      <td>Subject: hpl nom for january 9 , 2001\\r\\n( see...</td>\n",
       "      <td>0</td>\n",
       "    </tr>\n",
       "    <tr>\n",
       "      <th>2</th>\n",
       "      <td>ham</td>\n",
       "      <td>Subject: neon retreat\\r\\nho ho ho , we ' re ar...</td>\n",
       "      <td>0</td>\n",
       "    </tr>\n",
       "    <tr>\n",
       "      <th>3</th>\n",
       "      <td>spam</td>\n",
       "      <td>Subject: photoshop , windows , office . cheap ...</td>\n",
       "      <td>1</td>\n",
       "    </tr>\n",
       "    <tr>\n",
       "      <th>4</th>\n",
       "      <td>ham</td>\n",
       "      <td>Subject: re : indian springs\\r\\nthis deal is t...</td>\n",
       "      <td>0</td>\n",
       "    </tr>\n",
       "  </tbody>\n",
       "</table>\n",
       "</div>"
      ],
      "text/plain": [
       "  label                                               text  label_num\n",
       "0   ham  Subject: enron methanol ; meter # : 988291\\r\\n...          0\n",
       "1   ham  Subject: hpl nom for january 9 , 2001\\r\\n( see...          0\n",
       "2   ham  Subject: neon retreat\\r\\nho ho ho , we ' re ar...          0\n",
       "3  spam  Subject: photoshop , windows , office . cheap ...          1\n",
       "4   ham  Subject: re : indian springs\\r\\nthis deal is t...          0"
      ]
     },
     "execution_count": 3,
     "metadata": {},
     "output_type": "execute_result"
    }
   ],
   "source": [
    "df.head()"
   ]
  },
  {
   "cell_type": "code",
   "execution_count": 4,
   "id": "c1cc5d39",
   "metadata": {},
   "outputs": [
    {
     "data": {
      "text/html": [
       "<div>\n",
       "<style scoped>\n",
       "    .dataframe tbody tr th:only-of-type {\n",
       "        vertical-align: middle;\n",
       "    }\n",
       "\n",
       "    .dataframe tbody tr th {\n",
       "        vertical-align: top;\n",
       "    }\n",
       "\n",
       "    .dataframe thead th {\n",
       "        text-align: right;\n",
       "    }\n",
       "</style>\n",
       "<table border=\"1\" class=\"dataframe\">\n",
       "  <thead>\n",
       "    <tr style=\"text-align: right;\">\n",
       "      <th></th>\n",
       "      <th>label</th>\n",
       "      <th>text</th>\n",
       "      <th>label_num</th>\n",
       "    </tr>\n",
       "  </thead>\n",
       "  <tbody>\n",
       "    <tr>\n",
       "      <th>5166</th>\n",
       "      <td>ham</td>\n",
       "      <td>Subject: put the 10 on the ft\\r\\nthe transport...</td>\n",
       "      <td>0</td>\n",
       "    </tr>\n",
       "    <tr>\n",
       "      <th>5167</th>\n",
       "      <td>ham</td>\n",
       "      <td>Subject: 3 / 4 / 2000 and following noms\\r\\nhp...</td>\n",
       "      <td>0</td>\n",
       "    </tr>\n",
       "    <tr>\n",
       "      <th>5168</th>\n",
       "      <td>ham</td>\n",
       "      <td>Subject: calpine daily gas nomination\\r\\n&gt;\\r\\n...</td>\n",
       "      <td>0</td>\n",
       "    </tr>\n",
       "    <tr>\n",
       "      <th>5169</th>\n",
       "      <td>ham</td>\n",
       "      <td>Subject: industrial worksheets for august 2000...</td>\n",
       "      <td>0</td>\n",
       "    </tr>\n",
       "    <tr>\n",
       "      <th>5170</th>\n",
       "      <td>spam</td>\n",
       "      <td>Subject: important online banking alert\\r\\ndea...</td>\n",
       "      <td>1</td>\n",
       "    </tr>\n",
       "  </tbody>\n",
       "</table>\n",
       "</div>"
      ],
      "text/plain": [
       "     label                                               text  label_num\n",
       "5166   ham  Subject: put the 10 on the ft\\r\\nthe transport...          0\n",
       "5167   ham  Subject: 3 / 4 / 2000 and following noms\\r\\nhp...          0\n",
       "5168   ham  Subject: calpine daily gas nomination\\r\\n>\\r\\n...          0\n",
       "5169   ham  Subject: industrial worksheets for august 2000...          0\n",
       "5170  spam  Subject: important online banking alert\\r\\ndea...          1"
      ]
     },
     "execution_count": 4,
     "metadata": {},
     "output_type": "execute_result"
    }
   ],
   "source": [
    "df.tail()"
   ]
  },
  {
   "cell_type": "code",
   "execution_count": 5,
   "id": "3be7d8cf",
   "metadata": {},
   "outputs": [
    {
     "name": "stdout",
     "output_type": "stream",
     "text": [
      "<class 'pandas.core.frame.DataFrame'>\n",
      "RangeIndex: 5171 entries, 0 to 5170\n",
      "Data columns (total 3 columns):\n",
      " #   Column     Non-Null Count  Dtype \n",
      "---  ------     --------------  ----- \n",
      " 0   label      5171 non-null   object\n",
      " 1   text       5171 non-null   object\n",
      " 2   label_num  5171 non-null   int64 \n",
      "dtypes: int64(1), object(2)\n",
      "memory usage: 121.3+ KB\n"
     ]
    }
   ],
   "source": [
    "df.info()"
   ]
  },
  {
   "cell_type": "markdown",
   "id": "c336ea92",
   "metadata": {},
   "source": [
    "# Duplicates"
   ]
  },
  {
   "cell_type": "code",
   "execution_count": 6,
   "id": "be6e7977",
   "metadata": {},
   "outputs": [
    {
     "data": {
      "text/plain": [
       "label           2\n",
       "text         4993\n",
       "label_num       2\n",
       "dtype: int64"
      ]
     },
     "execution_count": 6,
     "metadata": {},
     "output_type": "execute_result"
    }
   ],
   "source": [
    "df.nunique()"
   ]
  },
  {
   "cell_type": "code",
   "execution_count": 8,
   "id": "1babfeea",
   "metadata": {},
   "outputs": [],
   "source": [
    "df.drop_duplicates(subset=\"text\", inplace=True)"
   ]
  },
  {
   "cell_type": "markdown",
   "id": "2321724f",
   "metadata": {},
   "source": [
    "178 duplicated rows found, dropping rows...\n",
    "\n",
    "178 rows of duplicates removed! 4993 rows remaining."
   ]
  },
  {
   "cell_type": "markdown",
   "id": "f3fe30a4",
   "metadata": {},
   "source": [
    "# Missing values"
   ]
  },
  {
   "cell_type": "code",
   "execution_count": 10,
   "id": "e29efea4",
   "metadata": {},
   "outputs": [
    {
     "data": {
      "text/plain": [
       "label        0\n",
       "text         0\n",
       "label_num    0\n",
       "dtype: int64"
      ]
     },
     "execution_count": 10,
     "metadata": {},
     "output_type": "execute_result"
    }
   ],
   "source": [
    "df.isna().sum()"
   ]
  },
  {
   "cell_type": "markdown",
   "id": "22dad991",
   "metadata": {},
   "source": [
    "No missing values."
   ]
  },
  {
   "cell_type": "markdown",
   "id": "428525d7",
   "metadata": {},
   "source": [
    "# Check 'label' & 'label_num'"
   ]
  },
  {
   "cell_type": "code",
   "execution_count": 38,
   "id": "e8234c28",
   "metadata": {},
   "outputs": [
    {
     "data": {
      "text/plain": [
       "False    3531\n",
       "True     1462\n",
       "Name: label, dtype: int64"
      ]
     },
     "execution_count": 38,
     "metadata": {},
     "output_type": "execute_result"
    }
   ],
   "source": [
    "(df['label'] == 'spam').value_counts()"
   ]
  },
  {
   "cell_type": "code",
   "execution_count": 39,
   "id": "7d689cf6",
   "metadata": {},
   "outputs": [
    {
     "data": {
      "text/plain": [
       "False    3531\n",
       "True     1462\n",
       "Name: label_num, dtype: int64"
      ]
     },
     "execution_count": 39,
     "metadata": {},
     "output_type": "execute_result"
    }
   ],
   "source": [
    "(df['label_num'] == 1).value_counts()"
   ]
  },
  {
   "cell_type": "code",
   "execution_count": 40,
   "id": "05da2268",
   "metadata": {},
   "outputs": [
    {
     "data": {
      "text/plain": [
       "False    3531\n",
       "True     1462\n",
       "dtype: int64"
      ]
     },
     "execution_count": 40,
     "metadata": {},
     "output_type": "execute_result"
    }
   ],
   "source": [
    "((df['label'] == 'spam') & (df['label_num'] == 1)).value_counts()"
   ]
  },
  {
   "cell_type": "markdown",
   "id": "a3627aee",
   "metadata": {},
   "source": [
    "'label' & 'label_num' is correct."
   ]
  },
  {
   "cell_type": "markdown",
   "id": "f203fd8a",
   "metadata": {},
   "source": [
    "# Feature Engineering"
   ]
  },
  {
   "cell_type": "markdown",
   "id": "ac420e3a",
   "metadata": {},
   "source": [
    "## Length\n",
    "Create new column ‘length’ to find out length of emails."
   ]
  },
  {
   "cell_type": "code",
   "execution_count": 11,
   "id": "1e8caa41",
   "metadata": {},
   "outputs": [
    {
     "data": {
      "text/html": [
       "<div>\n",
       "<style scoped>\n",
       "    .dataframe tbody tr th:only-of-type {\n",
       "        vertical-align: middle;\n",
       "    }\n",
       "\n",
       "    .dataframe tbody tr th {\n",
       "        vertical-align: top;\n",
       "    }\n",
       "\n",
       "    .dataframe thead th {\n",
       "        text-align: right;\n",
       "    }\n",
       "</style>\n",
       "<table border=\"1\" class=\"dataframe\">\n",
       "  <thead>\n",
       "    <tr style=\"text-align: right;\">\n",
       "      <th></th>\n",
       "      <th>label</th>\n",
       "      <th>text</th>\n",
       "      <th>label_num</th>\n",
       "      <th>length</th>\n",
       "    </tr>\n",
       "  </thead>\n",
       "  <tbody>\n",
       "    <tr>\n",
       "      <th>949</th>\n",
       "      <td>ham</td>\n",
       "      <td>Subject: fw : \" red , white and blue out \"\\r\\n...</td>\n",
       "      <td>0</td>\n",
       "      <td>32258</td>\n",
       "    </tr>\n",
       "    <tr>\n",
       "      <th>1988</th>\n",
       "      <td>spam</td>\n",
       "      <td>Subject: online pharxmacy 80 % off all meds\\r\\...</td>\n",
       "      <td>1</td>\n",
       "      <td>22073</td>\n",
       "    </tr>\n",
       "    <tr>\n",
       "      <th>3560</th>\n",
       "      <td>ham</td>\n",
       "      <td>Subject: fw : thought this was important\\r\\nba...</td>\n",
       "      <td>0</td>\n",
       "      <td>16338</td>\n",
       "    </tr>\n",
       "    <tr>\n",
       "      <th>4287</th>\n",
       "      <td>ham</td>\n",
       "      <td>Subject: the expatriate zone - issue # 1 2 / 1...</td>\n",
       "      <td>0</td>\n",
       "      <td>16312</td>\n",
       "    </tr>\n",
       "    <tr>\n",
       "      <th>4792</th>\n",
       "      <td>spam</td>\n",
       "      <td>Subject: we ' ve got your info by internet , h...</td>\n",
       "      <td>1</td>\n",
       "      <td>14716</td>\n",
       "    </tr>\n",
       "    <tr>\n",
       "      <th>4903</th>\n",
       "      <td>ham</td>\n",
       "      <td>Subject: re : coastal oil &amp; gas corporation\\r\\...</td>\n",
       "      <td>0</td>\n",
       "      <td>13448</td>\n",
       "    </tr>\n",
       "    <tr>\n",
       "      <th>2935</th>\n",
       "      <td>ham</td>\n",
       "      <td>Subject: re : coastal oil &amp; gas corporation\\r\\...</td>\n",
       "      <td>0</td>\n",
       "      <td>13440</td>\n",
       "    </tr>\n",
       "    <tr>\n",
       "      <th>828</th>\n",
       "      <td>ham</td>\n",
       "      <td>Subject: re : coastal oil &amp; gas corporation\\r\\...</td>\n",
       "      <td>0</td>\n",
       "      <td>13101</td>\n",
       "    </tr>\n",
       "    <tr>\n",
       "      <th>3514</th>\n",
       "      <td>spam</td>\n",
       "      <td>Subject: free profiles you choose derm\\r\\nhtml...</td>\n",
       "      <td>1</td>\n",
       "      <td>12078</td>\n",
       "    </tr>\n",
       "    <tr>\n",
       "      <th>4249</th>\n",
       "      <td>ham</td>\n",
       "      <td>Subject: re : sitara release ( re : changes in...</td>\n",
       "      <td>0</td>\n",
       "      <td>11776</td>\n",
       "    </tr>\n",
       "  </tbody>\n",
       "</table>\n",
       "</div>"
      ],
      "text/plain": [
       "     label                                               text  label_num  \\\n",
       "949    ham  Subject: fw : \" red , white and blue out \"\\r\\n...          0   \n",
       "1988  spam  Subject: online pharxmacy 80 % off all meds\\r\\...          1   \n",
       "3560   ham  Subject: fw : thought this was important\\r\\nba...          0   \n",
       "4287   ham  Subject: the expatriate zone - issue # 1 2 / 1...          0   \n",
       "4792  spam  Subject: we ' ve got your info by internet , h...          1   \n",
       "4903   ham  Subject: re : coastal oil & gas corporation\\r\\...          0   \n",
       "2935   ham  Subject: re : coastal oil & gas corporation\\r\\...          0   \n",
       "828    ham  Subject: re : coastal oil & gas corporation\\r\\...          0   \n",
       "3514  spam  Subject: free profiles you choose derm\\r\\nhtml...          1   \n",
       "4249   ham  Subject: re : sitara release ( re : changes in...          0   \n",
       "\n",
       "      length  \n",
       "949    32258  \n",
       "1988   22073  \n",
       "3560   16338  \n",
       "4287   16312  \n",
       "4792   14716  \n",
       "4903   13448  \n",
       "2935   13440  \n",
       "828    13101  \n",
       "3514   12078  \n",
       "4249   11776  "
      ]
     },
     "execution_count": 11,
     "metadata": {},
     "output_type": "execute_result"
    }
   ],
   "source": [
    "df[\"length\"] = df[\"text\"].apply(len)\n",
    "df.sort_values(by='length', ascending=False).head(10)"
   ]
  },
  {
   "cell_type": "markdown",
   "id": "6bb720f3",
   "metadata": {},
   "source": [
    "## Text\n",
    "1. Remove all punctuations from string.\n",
    "2. Convert all strings to their lower case form.\n",
    "3. Perform Tokenization\n",
    "4. Remove stopwords\n",
    "5. Stemming words"
   ]
  },
  {
   "cell_type": "code",
   "execution_count": 12,
   "id": "83af4d00",
   "metadata": {},
   "outputs": [],
   "source": [
    "# Remove all punctuations\n",
    "df['new_text'] = df['text'].str.replace('\\W', ' ', regex=True)"
   ]
  },
  {
   "cell_type": "code",
   "execution_count": 13,
   "id": "01d73a66",
   "metadata": {},
   "outputs": [],
   "source": [
    "# Convert all strings to lower case form\n",
    "df['new_text'] = df['new_text'].str.lower()"
   ]
  },
  {
   "cell_type": "code",
   "execution_count": 14,
   "id": "eb630d33",
   "metadata": {},
   "outputs": [],
   "source": [
    "# Tokenize words\n",
    "#df['new_text'] = df['new_text'].apply(word_tokenize)"
   ]
  },
  {
   "cell_type": "code",
   "execution_count": 15,
   "id": "f153b292",
   "metadata": {},
   "outputs": [],
   "source": [
    "# Remove stopwords\n",
    "#stop = stopwords.words('english')\n",
    "\n",
    "#df['new_text'] = df['new_text'].apply(lambda x: [item for item in x if item not in stop])"
   ]
  },
  {
   "cell_type": "code",
   "execution_count": 16,
   "id": "6ef1f4e5",
   "metadata": {},
   "outputs": [],
   "source": [
    "def clean_text(text, stemmer = PorterStemmer(), \n",
    "                  stop_words = set(stopwords.words('english'))):\n",
    "      \n",
    "    words = word_tokenize(text)\n",
    "    \n",
    "    filtered_words = []\n",
    "    \n",
    "    for word in words:\n",
    "        \n",
    "        if word not in stop_words and word.isalpha():\n",
    "            filtered_words.append(stemmer.stem(word))\n",
    "    \n",
    "    return filtered_words"
   ]
  },
  {
   "cell_type": "markdown",
   "id": "ff1df038",
   "metadata": {},
   "source": [
    "#### Spam mails"
   ]
  },
  {
   "cell_type": "code",
   "execution_count": 17,
   "id": "921c40e9",
   "metadata": {},
   "outputs": [],
   "source": [
    "df_spam = df[df['label'] == 'spam']"
   ]
  },
  {
   "cell_type": "code",
   "execution_count": 18,
   "id": "fb681b06",
   "metadata": {},
   "outputs": [
    {
     "data": {
      "text/html": [
       "<div>\n",
       "<style scoped>\n",
       "    .dataframe tbody tr th:only-of-type {\n",
       "        vertical-align: middle;\n",
       "    }\n",
       "\n",
       "    .dataframe tbody tr th {\n",
       "        vertical-align: top;\n",
       "    }\n",
       "\n",
       "    .dataframe thead th {\n",
       "        text-align: right;\n",
       "    }\n",
       "</style>\n",
       "<table border=\"1\" class=\"dataframe\">\n",
       "  <thead>\n",
       "    <tr style=\"text-align: right;\">\n",
       "      <th></th>\n",
       "      <th>label</th>\n",
       "      <th>text</th>\n",
       "      <th>label_num</th>\n",
       "      <th>length</th>\n",
       "      <th>new_text</th>\n",
       "    </tr>\n",
       "  </thead>\n",
       "  <tbody>\n",
       "    <tr>\n",
       "      <th>3</th>\n",
       "      <td>spam</td>\n",
       "      <td>Subject: photoshop , windows , office . cheap ...</td>\n",
       "      <td>1</td>\n",
       "      <td>414</td>\n",
       "      <td>subject  photoshop   windows   office   cheap ...</td>\n",
       "    </tr>\n",
       "    <tr>\n",
       "      <th>7</th>\n",
       "      <td>spam</td>\n",
       "      <td>Subject: looking for medication ? we ` re the ...</td>\n",
       "      <td>1</td>\n",
       "      <td>784</td>\n",
       "      <td>subject  looking for medication   we   re the ...</td>\n",
       "    </tr>\n",
       "    <tr>\n",
       "      <th>10</th>\n",
       "      <td>spam</td>\n",
       "      <td>Subject: vocable % rnd - word asceticism\\r\\nvc...</td>\n",
       "      <td>1</td>\n",
       "      <td>6922</td>\n",
       "      <td>subject  vocable   rnd   word asceticism  vcsc...</td>\n",
       "    </tr>\n",
       "    <tr>\n",
       "      <th>11</th>\n",
       "      <td>spam</td>\n",
       "      <td>Subject: report 01405 !\\r\\nwffur attion brom e...</td>\n",
       "      <td>1</td>\n",
       "      <td>337</td>\n",
       "      <td>subject  report 01405    wffur attion brom est...</td>\n",
       "    </tr>\n",
       "    <tr>\n",
       "      <th>13</th>\n",
       "      <td>spam</td>\n",
       "      <td>Subject: vic . odin n ^ ow\\r\\nberne hotbox car...</td>\n",
       "      <td>1</td>\n",
       "      <td>395</td>\n",
       "      <td>subject  vic   odin n   ow  berne hotbox carna...</td>\n",
       "    </tr>\n",
       "  </tbody>\n",
       "</table>\n",
       "</div>"
      ],
      "text/plain": [
       "   label                                               text  label_num  \\\n",
       "3   spam  Subject: photoshop , windows , office . cheap ...          1   \n",
       "7   spam  Subject: looking for medication ? we ` re the ...          1   \n",
       "10  spam  Subject: vocable % rnd - word asceticism\\r\\nvc...          1   \n",
       "11  spam  Subject: report 01405 !\\r\\nwffur attion brom e...          1   \n",
       "13  spam  Subject: vic . odin n ^ ow\\r\\nberne hotbox car...          1   \n",
       "\n",
       "    length                                           new_text  \n",
       "3      414  subject  photoshop   windows   office   cheap ...  \n",
       "7      784  subject  looking for medication   we   re the ...  \n",
       "10    6922  subject  vocable   rnd   word asceticism  vcsc...  \n",
       "11     337  subject  report 01405    wffur attion brom est...  \n",
       "13     395  subject  vic   odin n   ow  berne hotbox carna...  "
      ]
     },
     "execution_count": 18,
     "metadata": {},
     "output_type": "execute_result"
    }
   ],
   "source": [
    "df_spam.head()"
   ]
  },
  {
   "cell_type": "code",
   "execution_count": 19,
   "id": "81dd9d6c",
   "metadata": {},
   "outputs": [],
   "source": [
    "words_spam = clean_text(''.join(str(df_spam['new_text'].tolist())))"
   ]
  },
  {
   "cell_type": "code",
   "execution_count": 21,
   "id": "4451721d",
   "metadata": {},
   "outputs": [
    {
     "data": {
      "text/plain": [
       "(com,)        989\n",
       "(http,)       981\n",
       "(compani,)    918\n",
       "(price,)      731\n",
       "(e,)          632\n",
       "(www,)        586\n",
       "(inform,)     553\n",
       "(get,)        547\n",
       "(font,)       515\n",
       "(email,)      509\n",
       "(td,)         504\n",
       "(pleas,)      503\n",
       "dtype: int64"
      ]
     },
     "execution_count": 21,
     "metadata": {},
     "output_type": "execute_result"
    }
   ],
   "source": [
    "(pd.Series(ngrams(words_spam, 1)).value_counts())[:12]"
   ]
  },
  {
   "cell_type": "code",
   "execution_count": 22,
   "id": "198130d3",
   "metadata": {},
   "outputs": [
    {
     "data": {
      "text/plain": [
       "(http, www)          409\n",
       "(nbsp, nbsp)         296\n",
       "(computron, com)     195\n",
       "(href, http)         175\n",
       "(look, statement)    172\n",
       "(pill, pill)         169\n",
       "(width, height)      164\n",
       "(src, http)          157\n",
       "(www, computron)     152\n",
       "(forward, look)      142\n",
       "(http, nd)           136\n",
       "(e, mail)            135\n",
       "dtype: int64"
      ]
     },
     "execution_count": 22,
     "metadata": {},
     "output_type": "execute_result"
    }
   ],
   "source": [
    "(pd.Series(ngrams(words_spam, 2)).value_counts())[:12]"
   ]
  },
  {
   "cell_type": "markdown",
   "id": "6075a9c1",
   "metadata": {},
   "source": [
    "#### Ham mails"
   ]
  },
  {
   "cell_type": "code",
   "execution_count": 23,
   "id": "763f0bb7",
   "metadata": {},
   "outputs": [],
   "source": [
    "df_ham = df[df['label'] == 'ham']"
   ]
  },
  {
   "cell_type": "code",
   "execution_count": 24,
   "id": "fab6acbf",
   "metadata": {},
   "outputs": [
    {
     "data": {
      "text/html": [
       "<div>\n",
       "<style scoped>\n",
       "    .dataframe tbody tr th:only-of-type {\n",
       "        vertical-align: middle;\n",
       "    }\n",
       "\n",
       "    .dataframe tbody tr th {\n",
       "        vertical-align: top;\n",
       "    }\n",
       "\n",
       "    .dataframe thead th {\n",
       "        text-align: right;\n",
       "    }\n",
       "</style>\n",
       "<table border=\"1\" class=\"dataframe\">\n",
       "  <thead>\n",
       "    <tr style=\"text-align: right;\">\n",
       "      <th></th>\n",
       "      <th>label</th>\n",
       "      <th>text</th>\n",
       "      <th>label_num</th>\n",
       "      <th>length</th>\n",
       "      <th>new_text</th>\n",
       "    </tr>\n",
       "  </thead>\n",
       "  <tbody>\n",
       "    <tr>\n",
       "      <th>0</th>\n",
       "      <td>ham</td>\n",
       "      <td>Subject: enron methanol ; meter # : 988291\\r\\n...</td>\n",
       "      <td>0</td>\n",
       "      <td>327</td>\n",
       "      <td>subject  enron methanol   meter     988291  th...</td>\n",
       "    </tr>\n",
       "    <tr>\n",
       "      <th>1</th>\n",
       "      <td>ham</td>\n",
       "      <td>Subject: hpl nom for january 9 , 2001\\r\\n( see...</td>\n",
       "      <td>0</td>\n",
       "      <td>97</td>\n",
       "      <td>subject  hpl nom for january 9   2001    see a...</td>\n",
       "    </tr>\n",
       "    <tr>\n",
       "      <th>2</th>\n",
       "      <td>ham</td>\n",
       "      <td>Subject: neon retreat\\r\\nho ho ho , we ' re ar...</td>\n",
       "      <td>0</td>\n",
       "      <td>2524</td>\n",
       "      <td>subject  neon retreat  ho ho ho   we   re arou...</td>\n",
       "    </tr>\n",
       "    <tr>\n",
       "      <th>4</th>\n",
       "      <td>ham</td>\n",
       "      <td>Subject: re : indian springs\\r\\nthis deal is t...</td>\n",
       "      <td>0</td>\n",
       "      <td>336</td>\n",
       "      <td>subject  re   indian springs  this deal is to ...</td>\n",
       "    </tr>\n",
       "    <tr>\n",
       "      <th>5</th>\n",
       "      <td>ham</td>\n",
       "      <td>Subject: ehronline web address change\\r\\nthis ...</td>\n",
       "      <td>0</td>\n",
       "      <td>480</td>\n",
       "      <td>subject  ehronline web address change  this me...</td>\n",
       "    </tr>\n",
       "  </tbody>\n",
       "</table>\n",
       "</div>"
      ],
      "text/plain": [
       "  label                                               text  label_num  length  \\\n",
       "0   ham  Subject: enron methanol ; meter # : 988291\\r\\n...          0     327   \n",
       "1   ham  Subject: hpl nom for january 9 , 2001\\r\\n( see...          0      97   \n",
       "2   ham  Subject: neon retreat\\r\\nho ho ho , we ' re ar...          0    2524   \n",
       "4   ham  Subject: re : indian springs\\r\\nthis deal is t...          0     336   \n",
       "5   ham  Subject: ehronline web address change\\r\\nthis ...          0     480   \n",
       "\n",
       "                                            new_text  \n",
       "0  subject  enron methanol   meter     988291  th...  \n",
       "1  subject  hpl nom for january 9   2001    see a...  \n",
       "2  subject  neon retreat  ho ho ho   we   re arou...  \n",
       "4  subject  re   indian springs  this deal is to ...  \n",
       "5  subject  ehronline web address change  this me...  "
      ]
     },
     "execution_count": 24,
     "metadata": {},
     "output_type": "execute_result"
    }
   ],
   "source": [
    "df_ham.head()"
   ]
  },
  {
   "cell_type": "code",
   "execution_count": 25,
   "id": "acd9afea",
   "metadata": {},
   "outputs": [],
   "source": [
    "words_ham = clean_text(''.join(str(df_ham['new_text'].tolist())))"
   ]
  },
  {
   "cell_type": "code",
   "execution_count": 26,
   "id": "194b9534",
   "metadata": {},
   "outputs": [
    {
     "data": {
      "text/plain": [
       "(ect,)        13690\n",
       "(hou,)         7174\n",
       "(enron,)       6442\n",
       "(deal,)        3481\n",
       "(ga,)          2784\n",
       "(com,)         2713\n",
       "(meter,)       2709\n",
       "(subject,)     2679\n",
       "(pleas,)       2675\n",
       "(cc,)          2324\n",
       "(hpl,)         2291\n",
       "(pm,)          2283\n",
       "dtype: int64"
      ]
     },
     "execution_count": 26,
     "metadata": {},
     "output_type": "execute_result"
    }
   ],
   "source": [
    "(pd.Series(ngrams(words_ham, 1)).value_counts())[:12]"
   ]
  },
  {
   "cell_type": "code",
   "execution_count": 27,
   "id": "08b5d895",
   "metadata": {},
   "outputs": [
    {
     "data": {
      "text/plain": [
       "(hou, ect)        7119\n",
       "(ect, ect)        6246\n",
       "(enron, enron)    1411\n",
       "(ect, cc)         1356\n",
       "(corp, enron)     1171\n",
       "(cc, subject)     1065\n",
       "(daren, j)         926\n",
       "(let, know)        914\n",
       "(enron, com)       830\n",
       "(j, farmer)        783\n",
       "(ect, subject)     719\n",
       "(ect, pm)          555\n",
       "dtype: int64"
      ]
     },
     "execution_count": 27,
     "metadata": {},
     "output_type": "execute_result"
    }
   ],
   "source": [
    "(pd.Series(ngrams(words_ham, 2)).value_counts())[:12]"
   ]
  },
  {
   "cell_type": "markdown",
   "id": "20fff4cb",
   "metadata": {},
   "source": [
    "# Correlation"
   ]
  },
  {
   "cell_type": "code",
   "execution_count": 28,
   "id": "a48f8b6b",
   "metadata": {},
   "outputs": [
    {
     "data": {
      "text/html": [
       "<div>\n",
       "<style scoped>\n",
       "    .dataframe tbody tr th:only-of-type {\n",
       "        vertical-align: middle;\n",
       "    }\n",
       "\n",
       "    .dataframe tbody tr th {\n",
       "        vertical-align: top;\n",
       "    }\n",
       "\n",
       "    .dataframe thead th {\n",
       "        text-align: right;\n",
       "    }\n",
       "</style>\n",
       "<table border=\"1\" class=\"dataframe\">\n",
       "  <thead>\n",
       "    <tr style=\"text-align: right;\">\n",
       "      <th></th>\n",
       "      <th>label_num</th>\n",
       "      <th>length</th>\n",
       "    </tr>\n",
       "  </thead>\n",
       "  <tbody>\n",
       "    <tr>\n",
       "      <th>label_num</th>\n",
       "      <td>1.000000</td>\n",
       "      <td>0.074794</td>\n",
       "    </tr>\n",
       "    <tr>\n",
       "      <th>length</th>\n",
       "      <td>0.074794</td>\n",
       "      <td>1.000000</td>\n",
       "    </tr>\n",
       "  </tbody>\n",
       "</table>\n",
       "</div>"
      ],
      "text/plain": [
       "           label_num    length\n",
       "label_num   1.000000  0.074794\n",
       "length      0.074794  1.000000"
      ]
     },
     "execution_count": 28,
     "metadata": {},
     "output_type": "execute_result"
    }
   ],
   "source": [
    "df.corr()"
   ]
  },
  {
   "cell_type": "markdown",
   "id": "0f2255bf",
   "metadata": {},
   "source": [
    "Low correlation (7.48%) shown between label_num & length means that the variables are hardly related."
   ]
  },
  {
   "cell_type": "markdown",
   "id": "699a307b",
   "metadata": {},
   "source": [
    "# EDA"
   ]
  },
  {
   "cell_type": "markdown",
   "id": "44fdc0f2",
   "metadata": {},
   "source": [
    "## Label"
   ]
  },
  {
   "cell_type": "code",
   "execution_count": 29,
   "id": "cd298c15",
   "metadata": {},
   "outputs": [
    {
     "data": {
      "text/plain": [
       "[Text(0.5, 1.0, 'Countplot of Label')]"
      ]
     },
     "execution_count": 29,
     "metadata": {},
     "output_type": "execute_result"
    },
    {
     "data": {
      "image/png": "[encoded data removed]",
      "text/plain": [
       "<Figure size 576x576 with 1 Axes>"
      ]
     },
     "metadata": {
      "needs_background": "light"
     },
     "output_type": "display_data"
    }
   ],
   "source": [
    "plt.figure(figsize=(8,8))\n",
    "sns.countplot(data=df, x='label', hue='label_num').set(title='Countplot of Label')"
   ]
  },
  {
   "cell_type": "markdown",
   "id": "dad15e5e",
   "metadata": {},
   "source": [
    "From the plot, there are lesser spam mails."
   ]
  },
  {
   "cell_type": "markdown",
   "id": "12dac6a1",
   "metadata": {},
   "source": [
    "## Text"
   ]
  },
  {
   "cell_type": "markdown",
   "id": "69b22fa7",
   "metadata": {},
   "source": [
    "#### Spam mails"
   ]
  },
  {
   "cell_type": "code",
   "execution_count": 30,
   "id": "da77f610",
   "metadata": {},
   "outputs": [],
   "source": [
    "bigrams_series_spam = (pd.Series(ngrams(words_spam, 2)).value_counts())[:10]"
   ]
  },
  {
   "cell_type": "code",
   "execution_count": 31,
   "id": "4bf0fefb",
   "metadata": {},
   "outputs": [
    {
     "data": {
      "text/plain": [
       "Text(0.5, 0, '# of Occurences')"
      ]
     },
     "execution_count": 31,
     "metadata": {},
     "output_type": "execute_result"
    },
    {
     "data": {
      "image/png": "[encoded data removed]",
      "text/plain": [
       "<Figure size 576x576 with 1 Axes>"
      ]
     },
     "metadata": {
      "needs_background": "light"
     },
     "output_type": "display_data"
    }
   ],
   "source": [
    "plt.figure(figsize=(8,8))\n",
    "sns.barplot(y=bigrams_series_spam.index, x=bigrams_series_spam.values).set(title='Barplot of 10 Most Frequently Occuring Bigrams (Spam)')\n",
    "plt.ylabel('Bigram')\n",
    "plt.xlabel('# of Occurences')"
   ]
  },
  {
   "cell_type": "markdown",
   "id": "b4fb3084",
   "metadata": {},
   "source": [
    "From the plot, spam mails usually contain web links."
   ]
  },
  {
   "cell_type": "markdown",
   "id": "79fbdb8a",
   "metadata": {},
   "source": [
    "#### Ham mails"
   ]
  },
  {
   "cell_type": "code",
   "execution_count": 32,
   "id": "abc5b8e4",
   "metadata": {},
   "outputs": [],
   "source": [
    "bigrams_series_ham = (pd.Series(ngrams(words_ham, 2)).value_counts())[:10]"
   ]
  },
  {
   "cell_type": "code",
   "execution_count": 33,
   "id": "1bf40782",
   "metadata": {},
   "outputs": [
    {
     "data": {
      "text/plain": [
       "Text(0.5, 0, '# of Occurences')"
      ]
     },
     "execution_count": 33,
     "metadata": {},
     "output_type": "execute_result"
    },
    {
     "data": {
      "image/png": "[encoded data removed]",
      "text/plain": [
       "<Figure size 576x576 with 1 Axes>"
      ]
     },
     "metadata": {
      "needs_background": "light"
     },
     "output_type": "display_data"
    }
   ],
   "source": [
    "plt.figure(figsize=(8,8))\n",
    "sns.barplot(y=bigrams_series_ham.index, x=bigrams_series_ham.values).set(title='Barplot of 10 Most Frequently Occuring Bigrams (Ham)')\n",
    "plt.ylabel('Bigram')\n",
    "plt.xlabel('# of Occurences')"
   ]
  },
  {
   "cell_type": "markdown",
   "id": "44b25ef4",
   "metadata": {},
   "source": [
    "From the plot, normal (ham) mails usually contain corporate related information."
   ]
  },
  {
   "cell_type": "markdown",
   "id": "06f83e85",
   "metadata": {},
   "source": [
    "## Length"
   ]
  },
  {
   "cell_type": "code",
   "execution_count": 34,
   "id": "76e57f7b",
   "metadata": {},
   "outputs": [
    {
     "data": {
      "text/html": [
       "<div>\n",
       "<style scoped>\n",
       "    .dataframe tbody tr th:only-of-type {\n",
       "        vertical-align: middle;\n",
       "    }\n",
       "\n",
       "    .dataframe tbody tr th {\n",
       "        vertical-align: top;\n",
       "    }\n",
       "\n",
       "    .dataframe thead th {\n",
       "        text-align: right;\n",
       "    }\n",
       "</style>\n",
       "<table border=\"1\" class=\"dataframe\">\n",
       "  <thead>\n",
       "    <tr style=\"text-align: right;\">\n",
       "      <th></th>\n",
       "      <th>label_num</th>\n",
       "      <th>length</th>\n",
       "    </tr>\n",
       "  </thead>\n",
       "  <tbody>\n",
       "    <tr>\n",
       "      <th>count</th>\n",
       "      <td>1462.0</td>\n",
       "      <td>1462.000000</td>\n",
       "    </tr>\n",
       "    <tr>\n",
       "      <th>mean</th>\n",
       "      <td>1.0</td>\n",
       "      <td>1249.326265</td>\n",
       "    </tr>\n",
       "    <tr>\n",
       "      <th>std</th>\n",
       "      <td>0.0</td>\n",
       "      <td>1840.112883</td>\n",
       "    </tr>\n",
       "    <tr>\n",
       "      <th>min</th>\n",
       "      <td>1.0</td>\n",
       "      <td>11.000000</td>\n",
       "    </tr>\n",
       "    <tr>\n",
       "      <th>25%</th>\n",
       "      <td>1.0</td>\n",
       "      <td>304.250000</td>\n",
       "    </tr>\n",
       "    <tr>\n",
       "      <th>50%</th>\n",
       "      <td>1.0</td>\n",
       "      <td>589.000000</td>\n",
       "    </tr>\n",
       "    <tr>\n",
       "      <th>75%</th>\n",
       "      <td>1.0</td>\n",
       "      <td>1305.000000</td>\n",
       "    </tr>\n",
       "    <tr>\n",
       "      <th>max</th>\n",
       "      <td>1.0</td>\n",
       "      <td>22073.000000</td>\n",
       "    </tr>\n",
       "  </tbody>\n",
       "</table>\n",
       "</div>"
      ],
      "text/plain": [
       "       label_num        length\n",
       "count     1462.0   1462.000000\n",
       "mean         1.0   1249.326265\n",
       "std          0.0   1840.112883\n",
       "min          1.0     11.000000\n",
       "25%          1.0    304.250000\n",
       "50%          1.0    589.000000\n",
       "75%          1.0   1305.000000\n",
       "max          1.0  22073.000000"
      ]
     },
     "execution_count": 34,
     "metadata": {},
     "output_type": "execute_result"
    }
   ],
   "source": [
    "df[df['label'] == 'spam'].describe()"
   ]
  },
  {
   "cell_type": "code",
   "execution_count": 35,
   "id": "77456ee1",
   "metadata": {},
   "outputs": [
    {
     "data": {
      "text/html": [
       "<div>\n",
       "<style scoped>\n",
       "    .dataframe tbody tr th:only-of-type {\n",
       "        vertical-align: middle;\n",
       "    }\n",
       "\n",
       "    .dataframe tbody tr th {\n",
       "        vertical-align: top;\n",
       "    }\n",
       "\n",
       "    .dataframe thead th {\n",
       "        text-align: right;\n",
       "    }\n",
       "</style>\n",
       "<table border=\"1\" class=\"dataframe\">\n",
       "  <thead>\n",
       "    <tr style=\"text-align: right;\">\n",
       "      <th></th>\n",
       "      <th>label_num</th>\n",
       "      <th>length</th>\n",
       "    </tr>\n",
       "  </thead>\n",
       "  <tbody>\n",
       "    <tr>\n",
       "      <th>count</th>\n",
       "      <td>3531.0</td>\n",
       "      <td>3531.000000</td>\n",
       "    </tr>\n",
       "    <tr>\n",
       "      <th>mean</th>\n",
       "      <td>0.0</td>\n",
       "      <td>994.939394</td>\n",
       "    </tr>\n",
       "    <tr>\n",
       "      <th>std</th>\n",
       "      <td>0.0</td>\n",
       "      <td>1402.785831</td>\n",
       "    </tr>\n",
       "    <tr>\n",
       "      <th>min</th>\n",
       "      <td>0.0</td>\n",
       "      <td>18.000000</td>\n",
       "    </tr>\n",
       "    <tr>\n",
       "      <th>25%</th>\n",
       "      <td>0.0</td>\n",
       "      <td>241.000000</td>\n",
       "    </tr>\n",
       "    <tr>\n",
       "      <th>50%</th>\n",
       "      <td>0.0</td>\n",
       "      <td>538.000000</td>\n",
       "    </tr>\n",
       "    <tr>\n",
       "      <th>75%</th>\n",
       "      <td>0.0</td>\n",
       "      <td>1253.500000</td>\n",
       "    </tr>\n",
       "    <tr>\n",
       "      <th>max</th>\n",
       "      <td>0.0</td>\n",
       "      <td>32258.000000</td>\n",
       "    </tr>\n",
       "  </tbody>\n",
       "</table>\n",
       "</div>"
      ],
      "text/plain": [
       "       label_num        length\n",
       "count     3531.0   3531.000000\n",
       "mean         0.0    994.939394\n",
       "std          0.0   1402.785831\n",
       "min          0.0     18.000000\n",
       "25%          0.0    241.000000\n",
       "50%          0.0    538.000000\n",
       "75%          0.0   1253.500000\n",
       "max          0.0  32258.000000"
      ]
     },
     "execution_count": 35,
     "metadata": {},
     "output_type": "execute_result"
    }
   ],
   "source": [
    "df[df['label'] == 'ham'].describe()"
   ]
  },
  {
   "cell_type": "code",
   "execution_count": 36,
   "id": "cc518076",
   "metadata": {},
   "outputs": [
    {
     "data": {
      "text/plain": [
       "<AxesSubplot:xlabel='length', ylabel='label'>"
      ]
     },
     "execution_count": 36,
     "metadata": {},
     "output_type": "execute_result"
    },
    {
     "data": {
      "image/png": "[encoded data removed]",
      "text/plain": [
       "<Figure size 864x576 with 1 Axes>"
      ]
     },
     "metadata": {
      "needs_background": "light"
     },
     "output_type": "display_data"
    }
   ],
   "source": [
    "plt.figure(figsize=(12,8))\n",
    "sns.boxplot(data=df, y='label', x='length', hue='label', showfliers = False)"
   ]
  },
  {
   "cell_type": "markdown",
   "id": "26297129",
   "metadata": {},
   "source": [
    "From the histogram, spam emails tend to have more characters in the interquantile range (25% to 75%).\n",
    "\n",
    "|  | Ham Length | Spam Length |\n",
    "|--|-----|------|\n",
    "|mean|994.939394|`1249.326265`|\n",
    "|min|`18.00`|11.000000|\n",
    "|25%|241.00|`304.25`|\n",
    "|50%|538.00|`589.00`|\n",
    "|75%|1253.50|`1305.00`|\n",
    "|max|`32258.00`|22073.00|"
   ]
  },
  {
   "cell_type": "markdown",
   "id": "24c61062",
   "metadata": {},
   "source": [
    "# Conclusion"
   ]
  },
  {
   "cell_type": "markdown",
   "id": "5a2900fd",
   "metadata": {},
   "source": [
    "From the above findings, we can clearly see that number of samples of Ham is much more than that of Spam which implies that the dataset we are using is imbalanced. To balance the data, we need to downsample Ham. \n",
    "\n",
    "Spam and Ham 'text' contains different most common bigrams which needs to be converted into vectors with the corresponding words token id's before fitting into the machine learning model. \n",
    "\n",
    "'length' should be dropped as has little correlation to 'label_num'."
   ]
  },
  {
   "cell_type": "code",
   "execution_count": null,
   "id": "cc2c5a76",
   "metadata": {},
   "outputs": [],
   "source": []
  }
 ],
 "metadata": {
  "kernelspec": {
   "display_name": "Python 3 (ipykernel)",
   "language": "python",
   "name": "python3"
  },
  "language_info": {
   "codemirror_mode": {
    "name": "ipython",
    "version": 3
   },
   "file_extension": ".py",
   "mimetype": "text/x-python",
   "name": "python",
   "nbconvert_exporter": "python",
   "pygments_lexer": "ipython3",
   "version": "3.9.12"
  }
 },
 "nbformat": 4,
 "nbformat_minor": 5
}
